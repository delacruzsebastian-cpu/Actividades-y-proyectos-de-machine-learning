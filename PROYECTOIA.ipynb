{
  "nbformat": 4,
  "nbformat_minor": 0,
  "metadata": {
    "colab": {
      "name": "PROYECTOIA.ipynb",
      "provenance": [],
      "collapsed_sections": [],
      "mount_file_id": "1hMVXibbZpIgrUlquxu6OfdWG8TN-eDWf",
      "authorship_tag": "ABX9TyPvLAnZ6Y87mJvvem1jDuN1",
      "include_colab_link": true
    },
    "kernelspec": {
      "name": "python3",
      "display_name": "Python 3"
    },
    "language_info": {
      "name": "python"
    }
  },
  "cells": [
    {
      "cell_type": "markdown",
      "metadata": {
        "id": "view-in-github",
        "colab_type": "text"
      },
      "source": [
        "<a href=\"https://colab.research.google.com/github/delacruzsebastian-cpu/Actividades-y-proyectos-de-machine-learning/blob/main/PROYECTOIA.ipynb\" target=\"_parent\"><img src=\"https://colab.research.google.com/assets/colab-badge.svg\" alt=\"Open In Colab\"/></a>"
      ]
    },
    {
      "cell_type": "code",
      "metadata": {
        "id": "CCH0PRZSaLGl"
      },
      "source": [
        "import warnings  \n",
        "warnings.filterwarnings('ignore')\n",
        "import pandas as pd\n",
        "import numpy as np\n",
        "import matplotlib.pyplot as plt\n",
        "import timeit\n",
        "%matplotlib inline\n",
        "from sklearn.model_selection import RandomizedSearchCV\n",
        "from sklearn.model_selection import GridSearchCV\n",
        "\n",
        "from hyperopt import STATUS_OK, Trials, fmin, hp, tpe\n",
        "from scipy.spatial import distance\n",
        "from sklearn import svm\n",
        "# Implementación de Modelos\n",
        "from sklearn.neighbors import KNeighborsClassifier\n",
        "from sklearn.neighbors import DistanceMetric\n",
        "from sklearn.linear_model import LogisticRegression\n",
        "from sklearn.preprocessing import StandardScaler #Escalizar datos \n",
        "# Métricas a implementar\n",
        "from sklearn.metrics import matthews_corrcoef, accuracy_score, f1_score\n",
        "from sklearn.metrics import classification_report\n",
        "from sklearn.metrics import confusion_matrix\n"
      ],
      "execution_count": null,
      "outputs": []
    },
    {
      "cell_type": "code",
      "metadata": {
        "colab": {
          "base_uri": "https://localhost:8080/",
          "height": 218
        },
        "id": "RLaWKf1JaaRG",
        "outputId": "db853119-2efb-4d26-f940-7fb6535d943e"
      },
      "source": [
        "data = pd.read_csv('/content/drive/MyDrive/train.csv')\n",
        "data.head()"
      ],
      "execution_count": null,
      "outputs": [
        {
          "output_type": "execute_result",
          "data": {
            "text/html": [
              "<div>\n",
              "<style scoped>\n",
              "    .dataframe tbody tr th:only-of-type {\n",
              "        vertical-align: middle;\n",
              "    }\n",
              "\n",
              "    .dataframe tbody tr th {\n",
              "        vertical-align: top;\n",
              "    }\n",
              "\n",
              "    .dataframe thead th {\n",
              "        text-align: right;\n",
              "    }\n",
              "</style>\n",
              "<table border=\"1\" class=\"dataframe\">\n",
              "  <thead>\n",
              "    <tr style=\"text-align: right;\">\n",
              "      <th></th>\n",
              "      <th>battery_power</th>\n",
              "      <th>blue</th>\n",
              "      <th>clock_speed</th>\n",
              "      <th>dual_sim</th>\n",
              "      <th>fc</th>\n",
              "      <th>four_g</th>\n",
              "      <th>int_memory</th>\n",
              "      <th>m_dep</th>\n",
              "      <th>mobile_wt</th>\n",
              "      <th>n_cores</th>\n",
              "      <th>pc</th>\n",
              "      <th>px_height</th>\n",
              "      <th>px_width</th>\n",
              "      <th>ram</th>\n",
              "      <th>sc_h</th>\n",
              "      <th>sc_w</th>\n",
              "      <th>talk_time</th>\n",
              "      <th>three_g</th>\n",
              "      <th>touch_screen</th>\n",
              "      <th>wifi</th>\n",
              "      <th>price_range</th>\n",
              "    </tr>\n",
              "  </thead>\n",
              "  <tbody>\n",
              "    <tr>\n",
              "      <th>0</th>\n",
              "      <td>842</td>\n",
              "      <td>0</td>\n",
              "      <td>2.2</td>\n",
              "      <td>0</td>\n",
              "      <td>1</td>\n",
              "      <td>0</td>\n",
              "      <td>7</td>\n",
              "      <td>0.6</td>\n",
              "      <td>188</td>\n",
              "      <td>2</td>\n",
              "      <td>2</td>\n",
              "      <td>20</td>\n",
              "      <td>756</td>\n",
              "      <td>2549</td>\n",
              "      <td>9</td>\n",
              "      <td>7</td>\n",
              "      <td>19</td>\n",
              "      <td>0</td>\n",
              "      <td>0</td>\n",
              "      <td>1</td>\n",
              "      <td>1</td>\n",
              "    </tr>\n",
              "    <tr>\n",
              "      <th>1</th>\n",
              "      <td>1021</td>\n",
              "      <td>1</td>\n",
              "      <td>0.5</td>\n",
              "      <td>1</td>\n",
              "      <td>0</td>\n",
              "      <td>1</td>\n",
              "      <td>53</td>\n",
              "      <td>0.7</td>\n",
              "      <td>136</td>\n",
              "      <td>3</td>\n",
              "      <td>6</td>\n",
              "      <td>905</td>\n",
              "      <td>1988</td>\n",
              "      <td>2631</td>\n",
              "      <td>17</td>\n",
              "      <td>3</td>\n",
              "      <td>7</td>\n",
              "      <td>1</td>\n",
              "      <td>1</td>\n",
              "      <td>0</td>\n",
              "      <td>2</td>\n",
              "    </tr>\n",
              "    <tr>\n",
              "      <th>2</th>\n",
              "      <td>563</td>\n",
              "      <td>1</td>\n",
              "      <td>0.5</td>\n",
              "      <td>1</td>\n",
              "      <td>2</td>\n",
              "      <td>1</td>\n",
              "      <td>41</td>\n",
              "      <td>0.9</td>\n",
              "      <td>145</td>\n",
              "      <td>5</td>\n",
              "      <td>6</td>\n",
              "      <td>1263</td>\n",
              "      <td>1716</td>\n",
              "      <td>2603</td>\n",
              "      <td>11</td>\n",
              "      <td>2</td>\n",
              "      <td>9</td>\n",
              "      <td>1</td>\n",
              "      <td>1</td>\n",
              "      <td>0</td>\n",
              "      <td>2</td>\n",
              "    </tr>\n",
              "    <tr>\n",
              "      <th>3</th>\n",
              "      <td>615</td>\n",
              "      <td>1</td>\n",
              "      <td>2.5</td>\n",
              "      <td>0</td>\n",
              "      <td>0</td>\n",
              "      <td>0</td>\n",
              "      <td>10</td>\n",
              "      <td>0.8</td>\n",
              "      <td>131</td>\n",
              "      <td>6</td>\n",
              "      <td>9</td>\n",
              "      <td>1216</td>\n",
              "      <td>1786</td>\n",
              "      <td>2769</td>\n",
              "      <td>16</td>\n",
              "      <td>8</td>\n",
              "      <td>11</td>\n",
              "      <td>1</td>\n",
              "      <td>0</td>\n",
              "      <td>0</td>\n",
              "      <td>2</td>\n",
              "    </tr>\n",
              "    <tr>\n",
              "      <th>4</th>\n",
              "      <td>1821</td>\n",
              "      <td>1</td>\n",
              "      <td>1.2</td>\n",
              "      <td>0</td>\n",
              "      <td>13</td>\n",
              "      <td>1</td>\n",
              "      <td>44</td>\n",
              "      <td>0.6</td>\n",
              "      <td>141</td>\n",
              "      <td>2</td>\n",
              "      <td>14</td>\n",
              "      <td>1208</td>\n",
              "      <td>1212</td>\n",
              "      <td>1411</td>\n",
              "      <td>8</td>\n",
              "      <td>2</td>\n",
              "      <td>15</td>\n",
              "      <td>1</td>\n",
              "      <td>1</td>\n",
              "      <td>0</td>\n",
              "      <td>1</td>\n",
              "    </tr>\n",
              "  </tbody>\n",
              "</table>\n",
              "</div>"
            ],
            "text/plain": [
              "   battery_power  blue  clock_speed  ...  touch_screen  wifi  price_range\n",
              "0            842     0          2.2  ...             0     1            1\n",
              "1           1021     1          0.5  ...             1     0            2\n",
              "2            563     1          0.5  ...             1     0            2\n",
              "3            615     1          2.5  ...             0     0            2\n",
              "4           1821     1          1.2  ...             1     0            1\n",
              "\n",
              "[5 rows x 21 columns]"
            ]
          },
          "metadata": {
            "tags": []
          },
          "execution_count": 40
        }
      ]
    },
    {
      "cell_type": "code",
      "metadata": {
        "colab": {
          "base_uri": "https://localhost:8080/"
        },
        "id": "M3AUiyfxfOyK",
        "outputId": "0c90ea36-d7c8-411d-deaa-6ba454a772a8"
      },
      "source": [
        "data.isnull().sum()"
      ],
      "execution_count": null,
      "outputs": [
        {
          "output_type": "execute_result",
          "data": {
            "text/plain": [
              "battery_power    0\n",
              "blue             0\n",
              "clock_speed      0\n",
              "dual_sim         0\n",
              "fc               0\n",
              "four_g           0\n",
              "int_memory       0\n",
              "m_dep            0\n",
              "mobile_wt        0\n",
              "n_cores          0\n",
              "pc               0\n",
              "px_height        0\n",
              "px_width         0\n",
              "ram              0\n",
              "sc_h             0\n",
              "sc_w             0\n",
              "talk_time        0\n",
              "three_g          0\n",
              "touch_screen     0\n",
              "wifi             0\n",
              "price_range      0\n",
              "dtype: int64"
            ]
          },
          "metadata": {
            "tags": []
          },
          "execution_count": 41
        }
      ]
    },
    {
      "cell_type": "code",
      "metadata": {
        "colab": {
          "base_uri": "https://localhost:8080/"
        },
        "id": "OpZqJof5fRKP",
        "outputId": "6146f73a-9796-4ef9-c4c7-5f110449ae10"
      },
      "source": [
        "data.columns"
      ],
      "execution_count": null,
      "outputs": [
        {
          "output_type": "execute_result",
          "data": {
            "text/plain": [
              "Index(['battery_power', 'blue', 'clock_speed', 'dual_sim', 'fc', 'four_g',\n",
              "       'int_memory', 'm_dep', 'mobile_wt', 'n_cores', 'pc', 'px_height',\n",
              "       'px_width', 'ram', 'sc_h', 'sc_w', 'talk_time', 'three_g',\n",
              "       'touch_screen', 'wifi', 'price_range'],\n",
              "      dtype='object')"
            ]
          },
          "metadata": {
            "tags": []
          },
          "execution_count": 42
        }
      ]
    },
    {
      "cell_type": "code",
      "metadata": {
        "id": "BcE4oxujfnuy"
      },
      "source": [
        "features = ['battery_power', 'fc', 'clock_speed', 'int_memory', 'm_dep', 'mobile_wt', 'n_cores', 'pc', 'px_height', 'ram', 'px_width', 'sc_h', 'sc_w', 'talk_time','blue', 'dual_sim', 'four_g','three_g','touch_screen','wifi']\n",
        "label = ['price_range']\n",
        "X=data[features]\n",
        "y=data[label]"
      ],
      "execution_count": null,
      "outputs": []
    },
    {
      "cell_type": "code",
      "metadata": {
        "id": "bvmCzLEAfqW5"
      },
      "source": [
        "from sklearn.model_selection import train_test_split\n",
        "X_train,X_test, y_train,y_test= train_test_split(X,y,test_size=0.30, shuffle=True)"
      ],
      "execution_count": null,
      "outputs": []
    },
    {
      "cell_type": "code",
      "metadata": {
        "id": "-jVGEtVqf888"
      },
      "source": [
        "from sklearn.preprocessing import MinMaxScaler\n",
        "scaler = MinMaxScaler()\n",
        "X_train_scaled = scaler.fit_transform(X_train)\n",
        "X_test_scaled = scaler.transform(X_test)"
      ],
      "execution_count": null,
      "outputs": []
    },
    {
      "cell_type": "code",
      "metadata": {
        "id": "pGtTuh1SgL8B"
      },
      "source": [
        "X_train=X_train_scaled\n",
        "X_test=X_test_scaled"
      ],
      "execution_count": null,
      "outputs": []
    },
    {
      "cell_type": "markdown",
      "metadata": {
        "id": "h9zLVAvxgcne"
      },
      "source": [
        ""
      ]
    },
    {
      "cell_type": "code",
      "metadata": {
        "colab": {
          "base_uri": "https://localhost:8080/",
          "height": 905
        },
        "id": "RB-T9xk8gXTM",
        "outputId": "7833a3dd-490c-45cc-bffd-963f4486d026"
      },
      "source": [
        "k_range = range(1, int(np.sqrt(len(y_train))))\n",
        "\n",
        "#Distances: euclidean. manhattan. chebyshev. minkowski. seuclidean. mahalanobis. hamming\n",
        "distance='euclidean'\n",
        "\n",
        "scores = []\n",
        "acc = []\n",
        "MCC = []\n",
        "F1 = []\n",
        "\n",
        "for k in k_range:\n",
        "  knn = KNeighborsClassifier(n_neighbors = k, weights='uniform', metric=distance, metric_params=None, algorithm='brute')\n",
        "  knn.fit(X_train, y_train)\n",
        "  scores.append(knn.score(X_test, y_test))\n",
        "  y_test_predict = knn.predict(X_test)\n",
        "  acc.append(accuracy_score(y_test, y_test_predict))\n",
        "  MCC.append(matthews_corrcoef(y_test, y_test_predict))\n",
        "\n",
        "plt.plot(scores)\n",
        "plt.title(\"Scores\")\n",
        "plt.xlabel(\"Neighbors (k)\")\n",
        "plt.ylabel(\"Scores value\")\n",
        "plt.show()\n",
        "plt.plot(acc)\n",
        "plt.title(\"Accuracy\")\n",
        "plt.xlabel(\"Neighbors (k)\")\n",
        "plt.ylabel(\"Accuracy value\")\n",
        "plt.show()\n",
        "plt.plot(MCC)\n",
        "plt.title(\"Matthews Correlation Coefficient\")\n",
        "plt.xlabel(\"Neighbors (k)\")\n",
        "plt.ylabel(\"MCC value\")\n",
        "plt.show()\n",
        "\n",
        "print(\"Best k by Scores:\",k_range[np.argmax(scores)],\". Value:\",scores[np.argmax(scores)])\n",
        "print(\"Best k by Accuracy:\",k_range[np.argmax(acc)],\". Value:\",acc[np.argmax(acc)])\n",
        "print(\"Best k by MCC:\",k_range[np.argmax(MCC)],\". Value:\",MCC[np.argmax(MCC)])"
      ],
      "execution_count": null,
      "outputs": [
        {
          "output_type": "display_data",
          "data": {
            "image/png": "[encoded data removed]",
            "text/plain": [
              "<Figure size 432x288 with 1 Axes>"
            ]
          },
          "metadata": {
            "tags": [],
            "needs_background": "light"
          }
        },
        {
          "output_type": "display_data",
          "data": {
            "image/png": "[encoded data removed]",
            "text/plain": [
              "<Figure size 432x288 with 1 Axes>"
            ]
          },
          "metadata": {
            "tags": [],
            "needs_background": "light"
          }
        },
        {
          "output_type": "display_data",
          "data": {
            "image/png": "[encoded data removed]",
            "text/plain": [
              "<Figure size 432x288 with 1 Axes>"
            ]
          },
          "metadata": {
            "tags": [],
            "needs_background": "light"
          }
        },
        {
          "output_type": "stream",
          "text": [
            "Best k by Scores: 21 . Value: 0.9283333333333333\n",
            "Best k by Accuracy: 21 . Value: 0.9283333333333333\n",
            "Best k by MCC: 27 . Value: 0.9045530639152422\n"
          ],
          "name": "stdout"
        }
      ]
    },
    {
      "cell_type": "code",
      "metadata": {
        "colab": {
          "base_uri": "https://localhost:8080/"
        },
        "id": "GYXA1-IxhHeJ",
        "outputId": "de8f93a1-19f8-4173-9fc9-bf56da87fd5c"
      },
      "source": [
        "n_neighbors = 36\n",
        "\n",
        "knn = KNeighborsClassifier(n_neighbors, weights='uniform', metric=distance, metric_params=None, algorithm='auto')\n",
        "knn = knn.fit(X_train, y_train)\n",
        "\n",
        "y_predict=knn.predict(X_train)\n",
        "print('Train subset')\n",
        "print('Accuracy of K-NN classifier on training set: {:.5f}'\n",
        "     .format(accuracy_score(y_train, y_predict)))\n",
        "print('MCC of K-NN classifier on training set: {:.5f}'\n",
        "     .format(matthews_corrcoef(y_train, y_predict)))\n",
        "\n",
        "t0 = timeit.default_timer()\n",
        "y_predict_knn=knn.predict(X_test)\n",
        "time = timeit.default_timer() - t0\n",
        "print('\\nTest subset')\n",
        "print('Accuracy of K-NN classifier on test set: {:.5f}'\n",
        "     .format(accuracy_score(y_test, y_predict_knn)))\n",
        "print('MCC of K-NN classifier on test set: {:.5f}'\n",
        "     .format(matthews_corrcoef(y_test, y_predict_knn)))\n",
        "print('\\nClassification time: {:.5f}'.format(time),'s')"
      ],
      "execution_count": null,
      "outputs": [
        {
          "output_type": "stream",
          "text": [
            "Train subset\n",
            "Accuracy of K-NN classifier on training set: 0.92857\n",
            "MCC of K-NN classifier on training set: 0.90485\n",
            "\n",
            "Test subset\n",
            "Accuracy of K-NN classifier on test set: 0.91500\n",
            "MCC of K-NN classifier on test set: 0.88685\n",
            "\n",
            "Classification time: 0.03204 s\n"
          ],
          "name": "stdout"
        }
      ]
    },
    {
      "cell_type": "markdown",
      "metadata": {
        "id": "IZRfdlytDZvS"
      },
      "source": [
        "0.8868473148866264"
      ]
    },
    {
      "cell_type": "code",
      "metadata": {
        "colab": {
          "base_uri": "https://localhost:8080/"
        },
        "id": "9UdFs6D2DYrd",
        "outputId": "1247eb78-3bf0-4293-d60e-efe9fdb9a6fd"
      },
      "source": [
        "#Solvers: 'newton-cg', 'lbfgs', 'liblinear', 'sag', 'saga'\n",
        "\n",
        "log_reg = LogisticRegression(C=0.1, random_state=1, solver='lbfgs', max_iter=1000)\n",
        "log_reg.fit(X_train, y_train)\n",
        "\n",
        "y_predict=log_reg.predict(X_train)\n",
        "print('Train subset')\n",
        "print('Accuracy of LR classifier on training set: {:.5f}'\n",
        "     .format(accuracy_score(y_train, y_predict)))\n",
        "print('MCC of LR classifier on training set: {:.5f}'\n",
        "     .format(matthews_corrcoef(y_train, y_predict)))\n",
        "\n",
        "t0 = timeit.default_timer()\n",
        "y_predict_LR=log_reg.predict(X_test)\n",
        "time = timeit.default_timer() - t0\n",
        "print('\\nTest subset')\n",
        "print('Accuracy of LR classifier on test set: {:.5f}'\n",
        "     .format(accuracy_score(y_test, y_predict_LR)))\n",
        "print('MCC of LR classifier on test set: {:.5f}'\n",
        "     .format(matthews_corrcoef(y_test, y_predict_LR)))\n",
        "print('\\nClassification time: {:.5f}'.format(time),'s')"
      ],
      "execution_count": null,
      "outputs": [
        {
          "output_type": "stream",
          "text": [
            "Train subset\n",
            "Accuracy of LR classifier on training set: 0.70929\n",
            "MCC of LR classifier on training set: 0.61244\n",
            "\n",
            "Test subset\n",
            "Accuracy of LR classifier on test set: 0.71333\n",
            "MCC of LR classifier on test set: 0.61811\n",
            "\n",
            "Classification time: 0.00115 s\n"
          ],
          "name": "stdout"
        }
      ]
    },
    {
      "cell_type": "code",
      "metadata": {
        "colab": {
          "base_uri": "https://localhost:8080/"
        },
        "id": "_8DJybIWEO-3",
        "outputId": "3fce4a46-7b2e-40fd-eb75-69c345895eea"
      },
      "source": [
        "Pred = Log_Reg.predict(X_test)\n",
        "pred_probs = Log_Reg.predict_proba(X_test)\n",
        "# Matriz de confusion\n",
        "print(confusion_matrix(y_test, pred))\n",
        "# Reporte \n",
        "print(classification_report(y_test, pred))\n",
        "# Implementación Matthews\n",
        "print('Implementación con Matthews: ',matthews_corrcoef(y_test, pred))"
      ],
      "execution_count": null,
      "outputs": [
        {
          "output_type": "stream",
          "text": [
            "[[158   5   0   0]\n",
            " [  6 136   4   0]\n",
            " [  0  15 121   9]\n",
            " [  0   0  12 134]]\n",
            "              precision    recall  f1-score   support\n",
            "\n",
            "           0       0.96      0.97      0.97       163\n",
            "           1       0.87      0.93      0.90       146\n",
            "           2       0.88      0.83      0.86       145\n",
            "           3       0.94      0.92      0.93       146\n",
            "\n",
            "    accuracy                           0.92       600\n",
            "   macro avg       0.91      0.91      0.91       600\n",
            "weighted avg       0.92      0.92      0.91       600\n",
            "\n",
            "Implementación con Matthews:  0.8868473148866264\n"
          ],
          "name": "stdout"
        }
      ]
    },
    {
      "cell_type": "markdown",
      "metadata": {
        "id": "lOvkL_k2EAB8"
      },
      "source": [
        ""
      ]
    },
    {
      "cell_type": "code",
      "metadata": {
        "id": "DytrJJr_EAhb"
      },
      "source": [
        ""
      ],
      "execution_count": null,
      "outputs": []
    }
  ]
}