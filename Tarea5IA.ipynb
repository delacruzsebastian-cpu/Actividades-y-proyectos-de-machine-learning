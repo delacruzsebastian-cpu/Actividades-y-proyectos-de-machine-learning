{
  "nbformat": 4,
  "nbformat_minor": 0,
  "metadata": {
    "colab": {
      "name": "Tarea5_IA.ipynb",
      "provenance": [],
      "collapsed_sections": [],
      "toc_visible": true,
      "include_colab_link": true
    },
    "kernelspec": {
      "display_name": "Python 3",
      "language": "python",
      "name": "python3"
    },
    "language_info": {
      "codemirror_mode": {
        "name": "ipython",
        "version": 3
      },
      "file_extension": ".py",
      "mimetype": "text/x-python",
      "name": "python",
      "nbconvert_exporter": "python",
      "pygments_lexer": "ipython3",
      "version": "3.8.5"
    }
  },
  "cells": [
    {
      "cell_type": "markdown",
      "metadata": {
        "id": "view-in-github",
        "colab_type": "text"
      },
      "source": [
        "<a href=\"https://colab.research.google.com/github/delacruzsebastian-cpu/IA/blob/main/Tarea5IA.ipynb\" target=\"_parent\"><img src=\"https://colab.research.google.com/assets/colab-badge.svg\" alt=\"Open In Colab\"/></a>"
      ]
    },
    {
      "cell_type": "markdown",
      "metadata": {
        "id": "KvEl6alGZZd5"
      },
      "source": [
        "# Tarea Semana 5\n",
        "\n",
        "#SEBASTIAN DE LA CRUZ GUTIERREZ PUJ\n"
      ]
    },
    {
      "cell_type": "markdown",
      "metadata": {
        "id": "AazJX029aDVM"
      },
      "source": [
        "\n",
        "**1. Averiguar qué es es el \"coefficient of determination\".**\n",
        "\n",
        "El coeficiente de determinación  es una métrica estadistica la cual determina el nivel de similitud entre los datos y la regresión realizada, esta métrica es comúnmente usada para regresiónes lineales pero se puede extrapolar a regresiónes no multiples.\n",
        "\n",
        "**2. Intervalo de valores que toma y explicarlos.**   \n",
        "el coeficiente de determinación esta dado por el coeficiente de Pearson que toma valores continuos entre -1 y 1 y en el caso de realizar la metrica al cuadrado (R^2) solo es entre 0 a 1. \n",
        "\n",
        "**3. Qué significa si da negativo o cero? puede pasar? antes de elevar por supuesto.**\n",
        "\n",
        "  *   si R=1 la regresion es perfecta, esta explica todos los datos, en el caso contrario si R=-1 la regresion es negativa perfecta, la regresion explica los datos exactamente de forma inversa, si estos disminuyen en cierta medida la regrasión aumenta en esa medida exacta y visceversa\n",
        "  *   si R=0 no existe relación entre los datos y la regresion, esta no explica ningun dato.\n",
        "  *   si 0>r>1 la regresion explica cierta parte de los datos en cierta medida positiva por el contrario si 0>r>-1 es el inverso.\n"
      ]
    },
    {
      "cell_type": "markdown",
      "metadata": {
        "id": "b5toUK80ld7a"
      },
      "source": [
        "## R^2 de los datos de voltaje vs corriente"
      ]
    },
    {
      "cell_type": "code",
      "metadata": {
        "colab": {
          "base_uri": "https://localhost:8080/",
          "height": 0
        },
        "id": "88ZRC5T9YkzL",
        "outputId": "1f5558d9-ef7e-4dd7-fdaa-18dc844cfdfd"
      },
      "source": [
        "import numpy as np, pandas as pd\n",
        "import matplotlib.pyplot as plt\n",
        "import seaborn as sns\n",
        "from sklearn import metrics\n",
        "sns.set_theme(color_codes=True)\n",
        "\n",
        "def reg(x,y): #regresion \n",
        "\n",
        "  X = np.matrix(x).T\n",
        "  Y = np.matrix([y]).T\n",
        "  theta = np.linalg.inv(X.T*X)*(X.T)*Y\n",
        "\n",
        "  return theta\n",
        "\n",
        "#voltaje\n",
        "x1 = np.array([1,1.5,2,2.5,3,3.5,4,4.5,5,5.5,6])\n",
        "x0=np.ones(x1.shape)\n",
        "#corriente\n",
        "y = np.array([0.169610272,0.283395813,0.386358738,0.470227872 \n",
        "                      ,0.433281294,0.600267648,0.73833898,0.79031502\n",
        "                      ,0.877464268,0.843564462,0.964438817]) \n",
        "\n",
        "param = reg([x0,x1],y)\n",
        "print(\"por la solucion por el metodo de la pseudoinversa de moon-penrose los parametros fueron  = \", param)\n",
        "\n",
        "#R^2\n",
        "y_pred = param[0,0] + param[1,0]*x1\n",
        "R = metrics.r2_score(y, y_pred)\n",
        "print(\"el coeficiente de determinacion es: \",R)"
      ],
      "execution_count": 13,
      "outputs": [
        {
          "output_type": "stream",
          "text": [
            "por la solucion por el metodo de la pseudoinversa de moon-penrose los parametros fueron  =  [[0.04671882]\n",
            " [0.15697029]]\n",
            "el coeficiente de determinacion es:  0.967891304372684\n"
          ],
          "name": "stdout"
        }
      ]
    },
    {
      "cell_type": "code",
      "metadata": {
        "colab": {
          "base_uri": "https://localhost:8080/",
          "height": 284
        },
        "id": "7kiJ29BRmUUo",
        "outputId": "a761f91d-6189-448a-97c4-b97e2cfa12c9"
      },
      "source": [
        "plt.plot(x1, y, 'bo')\n",
        "plt.plot(x1,param[0,0] + param[1,0]*x1)\n",
        "plt.title(\"regresión lineal estimada, R^2 = {}\".format(R))\n",
        "plt.show()"
      ],
      "execution_count": 15,
      "outputs": [
        {
          "output_type": "display_data",
          "data": {
            "image/png": "[encoded data removed]",
            "text/plain": [
              "<Figure size 432x288 with 1 Axes>"
            ]
          },
          "metadata": {
            "tags": []
          }
        }
      ]
    },
    {
      "cell_type": "markdown",
      "metadata": {
        "id": "i3ThiJ3VRRr0"
      },
      "source": [
        "## Vacunación covid en Colombia "
      ]
    },
    {
      "cell_type": "code",
      "metadata": {
        "colab": {
          "base_uri": "https://localhost:8080/",
          "height": 1000
        },
        "id": "z_VCvgtsZZPa",
        "outputId": "e0d53dbc-b959-42e5-db80-9e3dc2d91859"
      },
      "source": [
        "data = pd.read_csv(\"country_vaccinations.csv\")\n",
        "data.filter([\"iso_code\", \"date\", \"total_vaccinations\", \"people_vaccinated\",\"daily_vaccinations\"])\n",
        "data_col =data[data['iso_code']=='COL'].copy()\n",
        "\n",
        "data_col\n",
        "\n"
      ],
      "execution_count": null,
      "outputs": [
        {
          "output_type": "execute_result",
          "data": {
            "text/html": [
              "<div>\n",
              "<style scoped>\n",
              "    .dataframe tbody tr th:only-of-type {\n",
              "        vertical-align: middle;\n",
              "    }\n",
              "\n",
              "    .dataframe tbody tr th {\n",
              "        vertical-align: top;\n",
              "    }\n",
              "\n",
              "    .dataframe thead th {\n",
              "        text-align: right;\n",
              "    }\n",
              "</style>\n",
              "<table border=\"1\" class=\"dataframe\">\n",
              "  <thead>\n",
              "    <tr style=\"text-align: right;\">\n",
              "      <th></th>\n",
              "      <th>country</th>\n",
              "      <th>iso_code</th>\n",
              "      <th>date</th>\n",
              "      <th>total_vaccinations</th>\n",
              "      <th>people_vaccinated</th>\n",
              "      <th>people_fully_vaccinated</th>\n",
              "      <th>daily_vaccinations_raw</th>\n",
              "      <th>daily_vaccinations</th>\n",
              "      <th>total_vaccinations_per_hundred</th>\n",
              "      <th>people_vaccinated_per_hundred</th>\n",
              "      <th>people_fully_vaccinated_per_hundred</th>\n",
              "      <th>daily_vaccinations_per_million</th>\n",
              "      <th>vaccines</th>\n",
              "      <th>source_name</th>\n",
              "      <th>source_website</th>\n",
              "    </tr>\n",
              "  </thead>\n",
              "  <tbody>\n",
              "    <tr>\n",
              "      <th>1231</th>\n",
              "      <td>Colombia</td>\n",
              "      <td>COL</td>\n",
              "      <td>2021-02-16</td>\n",
              "      <td>0.0</td>\n",
              "      <td>0.0</td>\n",
              "      <td>NaN</td>\n",
              "      <td>NaN</td>\n",
              "      <td>NaN</td>\n",
              "      <td>0.00</td>\n",
              "      <td>0.00</td>\n",
              "      <td>NaN</td>\n",
              "      <td>NaN</td>\n",
              "      <td>Pfizer/BioNTech, Sinovac</td>\n",
              "      <td>Ministry of Health</td>\n",
              "      <td>https://www.minsalud.gov.co/salud/publica/Vacu...</td>\n",
              "    </tr>\n",
              "    <tr>\n",
              "      <th>1232</th>\n",
              "      <td>Colombia</td>\n",
              "      <td>COL</td>\n",
              "      <td>2021-02-17</td>\n",
              "      <td>18.0</td>\n",
              "      <td>18.0</td>\n",
              "      <td>NaN</td>\n",
              "      <td>18.0</td>\n",
              "      <td>18.0</td>\n",
              "      <td>0.00</td>\n",
              "      <td>0.00</td>\n",
              "      <td>NaN</td>\n",
              "      <td>0.0</td>\n",
              "      <td>Pfizer/BioNTech, Sinovac</td>\n",
              "      <td>Ministry of Health</td>\n",
              "      <td>https://www.minsalud.gov.co/salud/publica/Vacu...</td>\n",
              "    </tr>\n",
              "    <tr>\n",
              "      <th>1233</th>\n",
              "      <td>Colombia</td>\n",
              "      <td>COL</td>\n",
              "      <td>2021-02-18</td>\n",
              "      <td>7854.0</td>\n",
              "      <td>7854.0</td>\n",
              "      <td>NaN</td>\n",
              "      <td>7836.0</td>\n",
              "      <td>3927.0</td>\n",
              "      <td>0.02</td>\n",
              "      <td>0.02</td>\n",
              "      <td>NaN</td>\n",
              "      <td>77.0</td>\n",
              "      <td>Pfizer/BioNTech, Sinovac</td>\n",
              "      <td>Ministry of Health</td>\n",
              "      <td>https://www.minsalud.gov.co/salud/publica/Vacu...</td>\n",
              "    </tr>\n",
              "    <tr>\n",
              "      <th>1234</th>\n",
              "      <td>Colombia</td>\n",
              "      <td>COL</td>\n",
              "      <td>2021-02-19</td>\n",
              "      <td>21307.0</td>\n",
              "      <td>21307.0</td>\n",
              "      <td>NaN</td>\n",
              "      <td>13453.0</td>\n",
              "      <td>7102.0</td>\n",
              "      <td>0.04</td>\n",
              "      <td>0.04</td>\n",
              "      <td>NaN</td>\n",
              "      <td>140.0</td>\n",
              "      <td>Pfizer/BioNTech, Sinovac</td>\n",
              "      <td>Ministry of Health</td>\n",
              "      <td>https://www.minsalud.gov.co/salud/publica/Vacu...</td>\n",
              "    </tr>\n",
              "    <tr>\n",
              "      <th>1235</th>\n",
              "      <td>Colombia</td>\n",
              "      <td>COL</td>\n",
              "      <td>2021-02-20</td>\n",
              "      <td>33140.0</td>\n",
              "      <td>33140.0</td>\n",
              "      <td>NaN</td>\n",
              "      <td>11833.0</td>\n",
              "      <td>8285.0</td>\n",
              "      <td>0.07</td>\n",
              "      <td>0.07</td>\n",
              "      <td>NaN</td>\n",
              "      <td>163.0</td>\n",
              "      <td>Pfizer/BioNTech, Sinovac</td>\n",
              "      <td>Ministry of Health</td>\n",
              "      <td>https://www.minsalud.gov.co/salud/publica/Vacu...</td>\n",
              "    </tr>\n",
              "    <tr>\n",
              "      <th>1236</th>\n",
              "      <td>Colombia</td>\n",
              "      <td>COL</td>\n",
              "      <td>2021-02-21</td>\n",
              "      <td>39827.0</td>\n",
              "      <td>39827.0</td>\n",
              "      <td>NaN</td>\n",
              "      <td>6687.0</td>\n",
              "      <td>7965.0</td>\n",
              "      <td>0.08</td>\n",
              "      <td>0.08</td>\n",
              "      <td>NaN</td>\n",
              "      <td>157.0</td>\n",
              "      <td>Pfizer/BioNTech, Sinovac</td>\n",
              "      <td>Ministry of Health</td>\n",
              "      <td>https://www.minsalud.gov.co/salud/publica/Vacu...</td>\n",
              "    </tr>\n",
              "    <tr>\n",
              "      <th>1237</th>\n",
              "      <td>Colombia</td>\n",
              "      <td>COL</td>\n",
              "      <td>2021-02-22</td>\n",
              "      <td>45166.0</td>\n",
              "      <td>45166.0</td>\n",
              "      <td>NaN</td>\n",
              "      <td>5339.0</td>\n",
              "      <td>7528.0</td>\n",
              "      <td>0.09</td>\n",
              "      <td>0.09</td>\n",
              "      <td>NaN</td>\n",
              "      <td>148.0</td>\n",
              "      <td>Pfizer/BioNTech, Sinovac</td>\n",
              "      <td>Ministry of Health</td>\n",
              "      <td>https://www.minsalud.gov.co/salud/publica/Vacu...</td>\n",
              "    </tr>\n",
              "    <tr>\n",
              "      <th>1238</th>\n",
              "      <td>Colombia</td>\n",
              "      <td>COL</td>\n",
              "      <td>2021-02-23</td>\n",
              "      <td>48150.0</td>\n",
              "      <td>48150.0</td>\n",
              "      <td>NaN</td>\n",
              "      <td>2984.0</td>\n",
              "      <td>6879.0</td>\n",
              "      <td>0.09</td>\n",
              "      <td>0.09</td>\n",
              "      <td>NaN</td>\n",
              "      <td>135.0</td>\n",
              "      <td>Pfizer/BioNTech, Sinovac</td>\n",
              "      <td>Ministry of Health</td>\n",
              "      <td>https://www.minsalud.gov.co/salud/publica/Vacu...</td>\n",
              "    </tr>\n",
              "    <tr>\n",
              "      <th>1239</th>\n",
              "      <td>Colombia</td>\n",
              "      <td>COL</td>\n",
              "      <td>2021-02-24</td>\n",
              "      <td>50524.0</td>\n",
              "      <td>50524.0</td>\n",
              "      <td>NaN</td>\n",
              "      <td>2374.0</td>\n",
              "      <td>7215.0</td>\n",
              "      <td>0.10</td>\n",
              "      <td>0.10</td>\n",
              "      <td>NaN</td>\n",
              "      <td>142.0</td>\n",
              "      <td>Pfizer/BioNTech, Sinovac</td>\n",
              "      <td>Ministry of Health</td>\n",
              "      <td>https://www.minsalud.gov.co/salud/publica/Vacu...</td>\n",
              "    </tr>\n",
              "    <tr>\n",
              "      <th>1240</th>\n",
              "      <td>Colombia</td>\n",
              "      <td>COL</td>\n",
              "      <td>2021-02-25</td>\n",
              "      <td>66157.0</td>\n",
              "      <td>66157.0</td>\n",
              "      <td>NaN</td>\n",
              "      <td>15633.0</td>\n",
              "      <td>8329.0</td>\n",
              "      <td>0.13</td>\n",
              "      <td>0.13</td>\n",
              "      <td>NaN</td>\n",
              "      <td>164.0</td>\n",
              "      <td>Pfizer/BioNTech, Sinovac</td>\n",
              "      <td>Ministry of Health</td>\n",
              "      <td>https://www.minsalud.gov.co/salud/publica/Vacu...</td>\n",
              "    </tr>\n",
              "    <tr>\n",
              "      <th>1241</th>\n",
              "      <td>Colombia</td>\n",
              "      <td>COL</td>\n",
              "      <td>2021-02-26</td>\n",
              "      <td>81333.0</td>\n",
              "      <td>81333.0</td>\n",
              "      <td>NaN</td>\n",
              "      <td>15176.0</td>\n",
              "      <td>8575.0</td>\n",
              "      <td>0.16</td>\n",
              "      <td>0.16</td>\n",
              "      <td>NaN</td>\n",
              "      <td>169.0</td>\n",
              "      <td>Pfizer/BioNTech, Sinovac</td>\n",
              "      <td>Ministry of Health</td>\n",
              "      <td>https://www.minsalud.gov.co/salud/publica/Vacu...</td>\n",
              "    </tr>\n",
              "    <tr>\n",
              "      <th>1242</th>\n",
              "      <td>Colombia</td>\n",
              "      <td>COL</td>\n",
              "      <td>2021-02-27</td>\n",
              "      <td>114042.0</td>\n",
              "      <td>114042.0</td>\n",
              "      <td>NaN</td>\n",
              "      <td>32709.0</td>\n",
              "      <td>11557.0</td>\n",
              "      <td>0.22</td>\n",
              "      <td>0.22</td>\n",
              "      <td>NaN</td>\n",
              "      <td>227.0</td>\n",
              "      <td>Pfizer/BioNTech, Sinovac</td>\n",
              "      <td>Ministry of Health</td>\n",
              "      <td>https://www.minsalud.gov.co/salud/publica/Vacu...</td>\n",
              "    </tr>\n",
              "    <tr>\n",
              "      <th>1243</th>\n",
              "      <td>Colombia</td>\n",
              "      <td>COL</td>\n",
              "      <td>2021-02-28</td>\n",
              "      <td>130578.0</td>\n",
              "      <td>130578.0</td>\n",
              "      <td>NaN</td>\n",
              "      <td>16536.0</td>\n",
              "      <td>12964.0</td>\n",
              "      <td>0.26</td>\n",
              "      <td>0.26</td>\n",
              "      <td>NaN</td>\n",
              "      <td>255.0</td>\n",
              "      <td>Pfizer/BioNTech, Sinovac</td>\n",
              "      <td>Ministry of Health</td>\n",
              "      <td>https://www.minsalud.gov.co/salud/publica/Vacu...</td>\n",
              "    </tr>\n",
              "    <tr>\n",
              "      <th>1244</th>\n",
              "      <td>Colombia</td>\n",
              "      <td>COL</td>\n",
              "      <td>2021-03-01</td>\n",
              "      <td>149133.0</td>\n",
              "      <td>149133.0</td>\n",
              "      <td>NaN</td>\n",
              "      <td>18555.0</td>\n",
              "      <td>14852.0</td>\n",
              "      <td>0.29</td>\n",
              "      <td>0.29</td>\n",
              "      <td>NaN</td>\n",
              "      <td>292.0</td>\n",
              "      <td>Pfizer/BioNTech, Sinovac</td>\n",
              "      <td>Ministry of Health</td>\n",
              "      <td>https://www.minsalud.gov.co/salud/publica/Vacu...</td>\n",
              "    </tr>\n",
              "    <tr>\n",
              "      <th>1245</th>\n",
              "      <td>Colombia</td>\n",
              "      <td>COL</td>\n",
              "      <td>2021-03-02</td>\n",
              "      <td>169619.0</td>\n",
              "      <td>169619.0</td>\n",
              "      <td>NaN</td>\n",
              "      <td>20486.0</td>\n",
              "      <td>17353.0</td>\n",
              "      <td>0.33</td>\n",
              "      <td>0.33</td>\n",
              "      <td>NaN</td>\n",
              "      <td>341.0</td>\n",
              "      <td>Pfizer/BioNTech, Sinovac</td>\n",
              "      <td>Ministry of Health</td>\n",
              "      <td>https://www.minsalud.gov.co/salud/publica/Vacu...</td>\n",
              "    </tr>\n",
              "    <tr>\n",
              "      <th>1246</th>\n",
              "      <td>Colombia</td>\n",
              "      <td>COL</td>\n",
              "      <td>2021-03-03</td>\n",
              "      <td>191480.0</td>\n",
              "      <td>191480.0</td>\n",
              "      <td>NaN</td>\n",
              "      <td>21861.0</td>\n",
              "      <td>20137.0</td>\n",
              "      <td>0.38</td>\n",
              "      <td>0.38</td>\n",
              "      <td>NaN</td>\n",
              "      <td>396.0</td>\n",
              "      <td>Pfizer/BioNTech, Sinovac</td>\n",
              "      <td>Ministry of Health</td>\n",
              "      <td>https://www.minsalud.gov.co/salud/publica/Vacu...</td>\n",
              "    </tr>\n",
              "    <tr>\n",
              "      <th>1247</th>\n",
              "      <td>Colombia</td>\n",
              "      <td>COL</td>\n",
              "      <td>2021-03-04</td>\n",
              "      <td>206475.0</td>\n",
              "      <td>206475.0</td>\n",
              "      <td>NaN</td>\n",
              "      <td>14995.0</td>\n",
              "      <td>20045.0</td>\n",
              "      <td>0.41</td>\n",
              "      <td>0.41</td>\n",
              "      <td>NaN</td>\n",
              "      <td>394.0</td>\n",
              "      <td>Pfizer/BioNTech, Sinovac</td>\n",
              "      <td>Ministry of Health</td>\n",
              "      <td>https://www.minsalud.gov.co/salud/publica/Vacu...</td>\n",
              "    </tr>\n",
              "    <tr>\n",
              "      <th>1248</th>\n",
              "      <td>Colombia</td>\n",
              "      <td>COL</td>\n",
              "      <td>2021-03-05</td>\n",
              "      <td>239851.0</td>\n",
              "      <td>239851.0</td>\n",
              "      <td>NaN</td>\n",
              "      <td>33376.0</td>\n",
              "      <td>22645.0</td>\n",
              "      <td>0.47</td>\n",
              "      <td>0.47</td>\n",
              "      <td>NaN</td>\n",
              "      <td>445.0</td>\n",
              "      <td>Pfizer/BioNTech, Sinovac</td>\n",
              "      <td>Ministry of Health</td>\n",
              "      <td>https://www.minsalud.gov.co/salud/publica/Vacu...</td>\n",
              "    </tr>\n",
              "    <tr>\n",
              "      <th>1249</th>\n",
              "      <td>Colombia</td>\n",
              "      <td>COL</td>\n",
              "      <td>2021-03-06</td>\n",
              "      <td>270411.0</td>\n",
              "      <td>270411.0</td>\n",
              "      <td>NaN</td>\n",
              "      <td>30560.0</td>\n",
              "      <td>22338.0</td>\n",
              "      <td>0.53</td>\n",
              "      <td>0.53</td>\n",
              "      <td>NaN</td>\n",
              "      <td>439.0</td>\n",
              "      <td>Pfizer/BioNTech, Sinovac</td>\n",
              "      <td>Ministry of Health</td>\n",
              "      <td>https://www.minsalud.gov.co/salud/publica/Vacu...</td>\n",
              "    </tr>\n",
              "    <tr>\n",
              "      <th>1250</th>\n",
              "      <td>Colombia</td>\n",
              "      <td>COL</td>\n",
              "      <td>2021-03-07</td>\n",
              "      <td>296240.0</td>\n",
              "      <td>NaN</td>\n",
              "      <td>NaN</td>\n",
              "      <td>25829.0</td>\n",
              "      <td>23666.0</td>\n",
              "      <td>0.58</td>\n",
              "      <td>NaN</td>\n",
              "      <td>NaN</td>\n",
              "      <td>465.0</td>\n",
              "      <td>Pfizer/BioNTech, Sinovac</td>\n",
              "      <td>Ministry of Health</td>\n",
              "      <td>https://www.minsalud.gov.co/salud/publica/Vacu...</td>\n",
              "    </tr>\n",
              "    <tr>\n",
              "      <th>1251</th>\n",
              "      <td>Colombia</td>\n",
              "      <td>COL</td>\n",
              "      <td>2021-03-08</td>\n",
              "      <td>316079.0</td>\n",
              "      <td>NaN</td>\n",
              "      <td>NaN</td>\n",
              "      <td>19839.0</td>\n",
              "      <td>23849.0</td>\n",
              "      <td>0.62</td>\n",
              "      <td>NaN</td>\n",
              "      <td>NaN</td>\n",
              "      <td>469.0</td>\n",
              "      <td>Pfizer/BioNTech, Sinovac</td>\n",
              "      <td>Ministry of Health</td>\n",
              "      <td>https://www.minsalud.gov.co/salud/publica/Vacu...</td>\n",
              "    </tr>\n",
              "    <tr>\n",
              "      <th>1252</th>\n",
              "      <td>Colombia</td>\n",
              "      <td>COL</td>\n",
              "      <td>2021-03-09</td>\n",
              "      <td>360635.0</td>\n",
              "      <td>NaN</td>\n",
              "      <td>NaN</td>\n",
              "      <td>44556.0</td>\n",
              "      <td>27288.0</td>\n",
              "      <td>0.71</td>\n",
              "      <td>NaN</td>\n",
              "      <td>NaN</td>\n",
              "      <td>536.0</td>\n",
              "      <td>Pfizer/BioNTech, Sinovac</td>\n",
              "      <td>Ministry of Health</td>\n",
              "      <td>https://www.minsalud.gov.co/salud/publica/Vacu...</td>\n",
              "    </tr>\n",
              "    <tr>\n",
              "      <th>1253</th>\n",
              "      <td>Colombia</td>\n",
              "      <td>COL</td>\n",
              "      <td>2021-03-10</td>\n",
              "      <td>480250.0</td>\n",
              "      <td>NaN</td>\n",
              "      <td>NaN</td>\n",
              "      <td>119615.0</td>\n",
              "      <td>41253.0</td>\n",
              "      <td>0.94</td>\n",
              "      <td>NaN</td>\n",
              "      <td>NaN</td>\n",
              "      <td>811.0</td>\n",
              "      <td>Pfizer/BioNTech, Sinovac</td>\n",
              "      <td>Ministry of Health</td>\n",
              "      <td>https://www.minsalud.gov.co/salud/publica/Vacu...</td>\n",
              "    </tr>\n",
              "  </tbody>\n",
              "</table>\n",
              "</div>"
            ],
            "text/plain": [
              "       country  ...                                     source_website\n",
              "1231  Colombia  ...  https://www.minsalud.gov.co/salud/publica/Vacu...\n",
              "1232  Colombia  ...  https://www.minsalud.gov.co/salud/publica/Vacu...\n",
              "1233  Colombia  ...  https://www.minsalud.gov.co/salud/publica/Vacu...\n",
              "1234  Colombia  ...  https://www.minsalud.gov.co/salud/publica/Vacu...\n",
              "1235  Colombia  ...  https://www.minsalud.gov.co/salud/publica/Vacu...\n",
              "1236  Colombia  ...  https://www.minsalud.gov.co/salud/publica/Vacu...\n",
              "1237  Colombia  ...  https://www.minsalud.gov.co/salud/publica/Vacu...\n",
              "1238  Colombia  ...  https://www.minsalud.gov.co/salud/publica/Vacu...\n",
              "1239  Colombia  ...  https://www.minsalud.gov.co/salud/publica/Vacu...\n",
              "1240  Colombia  ...  https://www.minsalud.gov.co/salud/publica/Vacu...\n",
              "1241  Colombia  ...  https://www.minsalud.gov.co/salud/publica/Vacu...\n",
              "1242  Colombia  ...  https://www.minsalud.gov.co/salud/publica/Vacu...\n",
              "1243  Colombia  ...  https://www.minsalud.gov.co/salud/publica/Vacu...\n",
              "1244  Colombia  ...  https://www.minsalud.gov.co/salud/publica/Vacu...\n",
              "1245  Colombia  ...  https://www.minsalud.gov.co/salud/publica/Vacu...\n",
              "1246  Colombia  ...  https://www.minsalud.gov.co/salud/publica/Vacu...\n",
              "1247  Colombia  ...  https://www.minsalud.gov.co/salud/publica/Vacu...\n",
              "1248  Colombia  ...  https://www.minsalud.gov.co/salud/publica/Vacu...\n",
              "1249  Colombia  ...  https://www.minsalud.gov.co/salud/publica/Vacu...\n",
              "1250  Colombia  ...  https://www.minsalud.gov.co/salud/publica/Vacu...\n",
              "1251  Colombia  ...  https://www.minsalud.gov.co/salud/publica/Vacu...\n",
              "1252  Colombia  ...  https://www.minsalud.gov.co/salud/publica/Vacu...\n",
              "1253  Colombia  ...  https://www.minsalud.gov.co/salud/publica/Vacu...\n",
              "\n",
              "[23 rows x 15 columns]"
            ]
          },
          "metadata": {
            "tags": []
          },
          "execution_count": 139
        }
      ]
    },
    {
      "cell_type": "code",
      "metadata": {
        "colab": {
          "base_uri": "https://localhost:8080/",
          "height": 464
        },
        "id": "aVfDAX-jO6Aw",
        "outputId": "9fb9403e-9f70-4d70-8023-4a0e6da2a741"
      },
      "source": [
        "plt.figure(figsize=(10,7))\n",
        "sns.lineplot(data=data_col,x=\"date\",y=\"total_vaccinations\",marker='o')\n",
        "plt.title(\"Vacunaciones totales por fecha en colombia\")\n",
        "plt.show()"
      ],
      "execution_count": null,
      "outputs": [
        {
          "output_type": "display_data",
          "data": {
            "image/png": "[encoded data removed]",
            "text/plain": [
              "<Figure size 720x504 with 1 Axes>"
            ]
          },
          "metadata": {
            "tags": []
          }
        }
      ]
    },
    {
      "cell_type": "code",
      "metadata": {
        "colab": {
          "base_uri": "https://localhost:8080/",
          "height": 464
        },
        "id": "C7TllKWi38tp",
        "outputId": "d74fa2b8-7099-4467-c001-3a8ffce43a92"
      },
      "source": [
        "plt.figure(figsize=(10,7))\n",
        "sns.lineplot(data=data_col,x=\"date\",y=\"daily_vaccinations\",marker='o')\n",
        "plt.title(\"Vacunaciones diarias por fecha en colombia\")\n",
        "plt.show()"
      ],
      "execution_count": null,
      "outputs": [
        {
          "output_type": "display_data",
          "data": {
            "image/png": "[encoded data removed]",
            "text/plain": [
              "<Figure size 720x504 with 1 Axes>"
            ]
          },
          "metadata": {
            "tags": []
          }
        }
      ]
    },
    {
      "cell_type": "code",
      "metadata": {
        "colab": {
          "base_uri": "https://localhost:8080/"
        },
        "id": "d6ISC0rP3nUU",
        "outputId": "a8dc9f26-0692-4533-d97f-7fc5b797718b"
      },
      "source": [
        "# REGRECION LINEAL\n",
        "y = data_col[\"total_vaccinations\"].values \n",
        "x0 = np.ones(y.shape)\n",
        "x1 = np.array([i+1  for i in range(len(y))])\n",
        "param = reg([x0,x1],y)\n",
        "print(\"por la solucion por el metodo de la pseudoinversa de moon-penrose los parametros fueron  = \", param)\n",
        "\n",
        "#R^2\n",
        "y_pred = param[0,0] + param[1,0]*x1\n",
        "R = metrics.r2_score(y, y_pred)\n",
        "print(\"el coeficiente de determinacion es: \",R)"
      ],
      "execution_count": null,
      "outputs": [
        {
          "output_type": "stream",
          "text": [
            "solucion por el metodo de la pseudoinversa de moon-penrose, parametros =  [[-77179.57312253]\n",
            " [ 18454.34486166]]  para regresion de primero orden\n",
            "el coeficiente de determinacion R^2 es:  0.9028288182347985\n"
          ],
          "name": "stdout"
        }
      ]
    },
    {
      "cell_type": "code",
      "metadata": {
        "colab": {
          "base_uri": "https://localhost:8080/",
          "height": 284
        },
        "id": "9K5gGML3QCRG",
        "outputId": "be136500-8616-417c-90bc-ee780fd17588"
      },
      "source": [
        "plt.plot(x1, y, 'bo')\n",
        "plt.plot(x1,y_pred)\n",
        "plt.title(\"regresión lineal estimada, R^2 = {}\".format(R2))\n",
        "plt.show()"
      ],
      "execution_count": null,
      "outputs": [
        {
          "output_type": "display_data",
          "data": {
            "image/png": "[encoded data removed]",
            "text/plain": [
              "<Figure size 432x288 with 1 Axes>"
            ]
          },
          "metadata": {
            "tags": []
          }
        }
      ]
    },
    {
      "cell_type": "code",
      "metadata": {
        "colab": {
          "base_uri": "https://localhost:8080/"
        },
        "id": "RatDLcR2KhRK",
        "outputId": "6052ba57-9a52-4cbe-dba1-4273bfeeac04"
      },
      "source": [
        "# REGRECION POLINOMIAL DE SEGUNDO ORDEN \n",
        "x2 = np.array(np.power(x1,2)) # y = a + b*x +c*x^2 \n",
        "\n",
        "param = reg([x0,x1],y)\n",
        "print(\"por la solucion por el metodo de la pseudoinversa de moon-penrose los parametros fueron  = \", param)\n",
        "\n",
        "#R^2\n",
        "y_pred = param[0,0] + param[1,0]*x1\n",
        "R = metrics.r2_score(y, y_pred)\n",
        "print(\"el coeficiente de determinacion es: \",R)"
      ],
      "execution_count": null,
      "outputs": [
        {
          "output_type": "stream",
          "text": [
            "solucion por el metodo de la pseudoinversa de moon-penrose, parametros =  [[15579.22134387]\n",
            " [-3807.76581028]\n",
            " [  927.58794466]]  para la regresión de segundo orden\n",
            "el coeficiente de determinacion R^2 es:  0.9826625415989749\n"
          ],
          "name": "stdout"
        }
      ]
    },
    {
      "cell_type": "code",
      "metadata": {
        "colab": {
          "base_uri": "https://localhost:8080/",
          "height": 284
        },
        "id": "kUd4PdfBQbxK",
        "outputId": "bfc465c0-8b3f-40f0-bd94-6826a80c7d67"
      },
      "source": [
        "plt.plot(x1, y, 'bo')\n",
        "plt.plot(x1,y_pred1)\n",
        "plt.title(\"regresión estimada, R^2 = {}\".format(R2))\n",
        "plt.show()"
      ],
      "execution_count": null,
      "outputs": [
        {
          "output_type": "display_data",
          "data": {
            "image/png": "[encoded data removed]",
            "text/plain": [
              "<Figure size 432x288 with 1 Axes>"
            ]
          },
          "metadata": {
            "tags": []
          }
        }
      ]
    },
    {
      "cell_type": "markdown",
      "metadata": {
        "id": "orU_2ldESj6q"
      },
      "source": [
        "## Conclusión\n",
        "\n",
        "*  En esta tarea logre aprendet que conociendo el coeficiente de determinación de cada regresión se puede comparar el desempeño de las regreciones en este caso luego de hacer las regreciones se obtuvo que dado el coeficiente de determinación la regreción polinomica se adapto mejor, y por esto siguiendo la regrencion se podra estimar el avance en la vacunación en Colombia       "
      ]
    }
  ]
}