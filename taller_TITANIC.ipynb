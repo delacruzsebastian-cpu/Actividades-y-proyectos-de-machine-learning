{
  "nbformat": 4,
  "nbformat_minor": 0,
  "metadata": {
    "colab": {
      "name": "taller TITANIC.ipynb",
      "provenance": [],
      "mount_file_id": "1itUMLxAOOnFVKyZS88jSWY6c4Inxjq6P",
      "authorship_tag": "ABX9TyONEkfzwTx2VEEPWD/FHHRT",
      "include_colab_link": true
    },
    "kernelspec": {
      "name": "python3",
      "display_name": "Python 3"
    },
    "language_info": {
      "name": "python"
    }
  },
  "cells": [
    {
      "cell_type": "markdown",
      "metadata": {
        "id": "view-in-github",
        "colab_type": "text"
      },
      "source": [
        "<a href=\"https://colab.research.google.com/github/delacruzsebastian-cpu/IA/blob/main/taller_TITANIC.ipynb\" target=\"_parent\"><img src=\"https://colab.research.google.com/assets/colab-badge.svg\" alt=\"Open In Colab\"/></a>"
      ]
    },
    {
      "cell_type": "markdown",
      "metadata": {
        "id": "MCC7N8wyWlQC"
      },
      "source": [
        "#**Uso de datasets disponibles, y selección de método de clasificación.**\n",
        "**SEBASTIAN DE LA CRUZ**\n",
        "\n",
        "**Dataset de Titanic**\n"
      ]
    },
    {
      "cell_type": "code",
      "metadata": {
        "id": "1JW-b0fEXIkt"
      },
      "source": [
        "import pandas as pd\n",
        "import numpy as np\n",
        "import matplotlib.pyplot as plt\n",
        "import timeit\n",
        "%matplotlib inline\n",
        "from scipy.spatial import distance\n",
        "from sklearn import svm\n",
        "# Implementación de Modelos\n",
        "from sklearn.neighbors import KNeighborsClassifier\n",
        "from sklearn.neighbors import DistanceMetric\n",
        "from sklearn.linear_model import LogisticRegression\n",
        "from sklearn.preprocessing import StandardScaler #Escalizar datos \n",
        "# Métricas a implementar\n",
        "from sklearn.metrics import matthews_corrcoef, accuracy_score, f1_score\n",
        "from sklearn.metrics import classification_report\n",
        "from sklearn.metrics import confusion_matrix\n"
      ],
      "execution_count": 24,
      "outputs": []
    },
    {
      "cell_type": "code",
      "metadata": {
        "colab": {
          "base_uri": "https://localhost:8080/"
        },
        "id": "Krlz_wylYmqj",
        "outputId": "a0343e49-1aac-481d-fd31-8a8a28fe1a5c"
      },
      "source": [
        "def Importar(df):\n",
        " \n",
        " # Depuración de datos incompletos\n",
        "  df = df[df.Age.isna() == False] #Edad\n",
        "  df = df[df.Embarked.isna() == False] #Puerto\n",
        " \n",
        "  for i in range(df.shape[0]):\n",
        " \n",
        "    # Sexo \n",
        "    if df.iat[i,2] == 'male':\n",
        "      df.iat[i,2] = 0 #Masculino=0\n",
        "    else:\n",
        "      df.iat[i,2] = 1 #Femenino=1\n",
        "    # Puerto\n",
        "    if df.iat[i,5] == 'S': #Puerto S = 0\n",
        "      df.iat[i,5] = 0\n",
        "    elif df.iat[i,5] == 'C': #Puerto C = 1\n",
        "      df.iat[i,5] = 1\n",
        "    else:\n",
        "      df.iat[i,5] = 2 #Puerto Q= 2\n",
        "  \n",
        "  df = df.astype('int8')\n",
        "  print(df.head())\n",
        "  X = df.drop(columns=['Survived']).values\n",
        "  Y = df['Survived'].values\n",
        "  return X,Y\n",
        "\n",
        "# Conjunto de entrenamiento\n",
        "train = pd.read_csv('/content/drive/MyDrive/train.csv',usecols=[1,2,4,5,6,11]) #Determinación de columnas a usar\n",
        "train.columns = ['Survived','PClass','Sex','Age','SibSp','Embarked']\n",
        "X_train,y_train = Importar(train)\n",
        "\n",
        "# Conjunto de prueba\n",
        "test = pd.read_csv('/content/drive/MyDrive/test.csv',usecols=[1,3,4,5,10]) #Determinación de columnas \n",
        "test.columns = ['PClass','Sex','Age','SibSb','Embarked']\n",
        "sup = pd.read_csv('/content/drive/MyDrive/gender_submission.csv',usecols=[1]).values\n",
        "test.insert(0, \"Survived\", sup, False)\n",
        "X_test,y_test = Importar(test)\n",
        "\n",
        "# Escalización de datos\n",
        "scaler = StandardScaler()\n",
        "scaler.fit(X_train)\n",
        "X_train = scaler.transform(X_train)\n",
        "X_test = scaler.transform(X_test)\n"
      ],
      "execution_count": 22,
      "outputs": [
        {
          "output_type": "stream",
          "text": [
            "   Survived  PClass  Sex  Age  SibSp  Embarked\n",
            "0         0       3    0   22      1         0\n",
            "1         1       1    1   38      1         1\n",
            "2         1       3    1   26      0         0\n",
            "3         1       1    1   35      1         0\n",
            "4         0       3    0   35      0         0\n",
            "   Survived  PClass  Sex  Age  SibSb  Embarked\n",
            "0         0       3    0   34      0         2\n",
            "1         1       3    1   47      1         0\n",
            "2         0       2    0   62      0         2\n",
            "3         0       3    0   27      0         0\n",
            "4         1       3    1   22      1         0\n"
          ],
          "name": "stdout"
        }
      ]
    },
    {
      "cell_type": "markdown",
      "metadata": {
        "id": "SCvGehXLa3cK"
      },
      "source": [
        "**Clasificación por KNN**"
      ]
    },
    {
      "cell_type": "code",
      "metadata": {
        "colab": {
          "base_uri": "https://localhost:8080/",
          "height": 1000
        },
        "id": "wKg3xn_Dd40t",
        "outputId": "edcab4e0-9761-4b95-9a37-7638c39df04e"
      },
      "source": [
        "k_range = range(1, int(np.sqrt(len(y_train))))\n",
        "\n",
        "#Distances: euclidean. manhattan. chebyshev. minkowski. seuclidean. mahalanobis. hamming\n",
        "distance='euclidean'\n",
        "\n",
        "scores = []\n",
        "acc = []\n",
        "MCC = []\n",
        "F1 = []\n",
        "\n",
        "for k in k_range:\n",
        "  knn = KNeighborsClassifier(n_neighbors = k, weights='uniform', metric=distance, metric_params=None, algorithm='brute')\n",
        "  knn.fit(X_train, y_train)\n",
        "  scores.append(knn.score(X_test, y_test))\n",
        "  y_test_predict = knn.predict(X_test)\n",
        "  acc.append(accuracy_score(y_test, y_test_predict))\n",
        "  MCC.append(matthews_corrcoef(y_test, y_test_predict))\n",
        "  F1.append(f1_score(y_test,y_test_predict))\n",
        "\n",
        "plt.plot(scores)\n",
        "plt.title(\"Scores\")\n",
        "plt.xlabel(\"Neighbors (k)\")\n",
        "plt.ylabel(\"Scores value\")\n",
        "plt.show()\n",
        "plt.plot(acc)\n",
        "plt.title(\"Accuracy\")\n",
        "plt.xlabel(\"Neighbors (k)\")\n",
        "plt.ylabel(\"Accuracy value\")\n",
        "plt.show()\n",
        "plt.plot(MCC)\n",
        "plt.title(\"Matthews Correlation Coefficient\")\n",
        "plt.xlabel(\"Neighbors (k)\")\n",
        "plt.ylabel(\"MCC value\")\n",
        "plt.show()\n",
        "plt.plot(F1)\n",
        "plt.title(\"F1\")\n",
        "plt.xlabel(\"Neighbors (k)\")\n",
        "plt.ylabel(\"F1 value\")\n",
        "plt.show()\n",
        "\n",
        "print(\"Best k by Scores:\",k_range[np.argmax(scores)],\". Value:\",scores[np.argmax(scores)])\n",
        "print(\"Best k by Accuracy:\",k_range[np.argmax(acc)],\". Value:\",acc[np.argmax(acc)])\n",
        "print(\"Best k by MCC:\",k_range[np.argmax(MCC)],\". Value:\",MCC[np.argmax(MCC)])\n",
        "print(\"Best k by F1:\",k_range[np.argmax(F1)],\". Value:\",F1[np.argmax(F1)])"
      ],
      "execution_count": 25,
      "outputs": [
        {
          "output_type": "display_data",
          "data": {
            "image/png": "[encoded data removed]",
            "text/plain": [
              "<Figure size 432x288 with 1 Axes>"
            ]
          },
          "metadata": {
            "tags": [],
            "needs_background": "light"
          }
        },
        {
          "output_type": "display_data",
          "data": {
            "image/png": "[encoded data removed]",
            "text/plain": [
              "<Figure size 432x288 with 1 Axes>"
            ]
          },
          "metadata": {
            "tags": [],
            "needs_background": "light"
          }
        },
        {
          "output_type": "display_data",
          "data": {
            "image/png": "[encoded data removed]",
            "text/plain": [
              "<Figure size 432x288 with 1 Axes>"
            ]
          },
          "metadata": {
            "tags": [],
            "needs_background": "light"
          }
        },
        {
          "output_type": "display_data",
          "data": {
            "image/png": "[encoded data removed]",
            "text/plain": [
              "<Figure size 432x288 with 1 Axes>"
            ]
          },
          "metadata": {
            "tags": [],
            "needs_background": "light"
          }
        },
        {
          "output_type": "stream",
          "text": [
            "Best k by Scores: 16 . Value: 0.9246987951807228\n",
            "Best k by Accuracy: 16 . Value: 0.9246987951807228\n",
            "Best k by MCC: 25 . Value: 0.8409699171980937\n",
            "Best k by F1: 16 . Value: 0.896265560165975\n"
          ],
          "name": "stdout"
        }
      ]
    },
    {
      "cell_type": "markdown",
      "metadata": {
        "id": "67wI0IoZjUzZ"
      },
      "source": [
        "Usaremos el mejor resultado de MCC, ya que tiene en cuenta todos los posibles tipos de error."
      ]
    },
    {
      "cell_type": "code",
      "metadata": {
        "colab": {
          "base_uri": "https://localhost:8080/"
        },
        "id": "JNKw0zhgjG55",
        "outputId": "ff90daf8-3169-4c2b-cb57-40e571959843"
      },
      "source": [
        "n_neighbors = 25\n",
        "\n",
        "knn = KNeighborsClassifier(n_neighbors, weights='uniform', metric=distance, metric_params=None, algorithm='auto')\n",
        "knn = knn.fit(X_train, y_train)\n",
        "\n",
        "y_predict=knn.predict(X_train)\n",
        "print('Train subset')\n",
        "print('Accuracy of K-NN classifier on training set: {:.5f}'\n",
        "     .format(accuracy_score(y_train, y_predict)))\n",
        "print('MCC of K-NN classifier on training set: {:.5f}'\n",
        "     .format(matthews_corrcoef(y_train, y_predict)))\n",
        "\n",
        "t0 = timeit.default_timer()\n",
        "y_predict_knn=knn.predict(X_test)\n",
        "time = timeit.default_timer() - t0\n",
        "print('\\nTest subset')\n",
        "print('Accuracy of K-NN classifier on test set: {:.5f}'\n",
        "     .format(accuracy_score(y_test, y_predict_knn)))\n",
        "print('MCC of K-NN classifier on test set: {:.5f}'\n",
        "     .format(matthews_corrcoef(y_test, y_predict_knn)))\n",
        "print('\\nClassification time: {:.5f}'.format(time),'s')"
      ],
      "execution_count": 28,
      "outputs": [
        {
          "output_type": "stream",
          "text": [
            "Train subset\n",
            "Accuracy of K-NN classifier on training set: 0.83427\n",
            "MCC of K-NN classifier on training set: 0.65375\n",
            "\n",
            "Test subset\n",
            "Accuracy of K-NN classifier on test set: 0.92470\n",
            "MCC of K-NN classifier on test set: 0.84097\n",
            "\n",
            "Classification time: 0.01484 s\n"
          ],
          "name": "stdout"
        }
      ]
    },
    {
      "cell_type": "markdown",
      "metadata": {
        "id": "XAV60TJUX9QQ"
      },
      "source": [
        "*METRICAS DEL CLASIFICADOR POR KNN*"
      ]
    },
    {
      "cell_type": "code",
      "metadata": {
        "colab": {
          "base_uri": "https://localhost:8080/"
        },
        "id": "n-bxyycOYDSm",
        "outputId": "cc58b1d1-9f79-4adc-e2d9-6322154d57c1"
      },
      "source": [
        "pred = knn.predict(X_test)\n",
        "# Matriz de confusion\n",
        "print(confusion_matrix(y_test, pred))\n",
        "# Reporte \n",
        "print(classification_report(y_test, pred))\n",
        "# Implementación Matthews\n",
        "print('Implementación con Matthews: ',matthews_corrcoef(y_test, pred))"
      ],
      "execution_count": 29,
      "outputs": [
        {
          "output_type": "stream",
          "text": [
            "[[200   5]\n",
            " [ 20 107]]\n",
            "              precision    recall  f1-score   support\n",
            "\n",
            "           0       0.91      0.98      0.94       205\n",
            "           1       0.96      0.84      0.90       127\n",
            "\n",
            "    accuracy                           0.92       332\n",
            "   macro avg       0.93      0.91      0.92       332\n",
            "weighted avg       0.93      0.92      0.92       332\n",
            "\n",
            "Implementación con Matthews:  0.8409699171980937\n"
          ],
          "name": "stdout"
        }
      ]
    },
    {
      "cell_type": "markdown",
      "metadata": {
        "id": "JntkOg9dY8zW"
      },
      "source": [
        "**Clasificación por regresión logistica**"
      ]
    },
    {
      "cell_type": "code",
      "metadata": {
        "colab": {
          "base_uri": "https://localhost:8080/"
        },
        "id": "yjNrdOjaa0ch",
        "outputId": "c9ffc769-85da-4f5a-8415-e56d33256b64"
      },
      "source": [
        "#Solvers: 'newton-cg', 'lbfgs', 'liblinear', 'sag', 'saga'\n",
        "\n",
        "Log_Reg = LogisticRegression(C=0.1, random_state=1, solver='lbfgs', max_iter=1000)\n",
        "Log_Reg.fit(X_train,y_train)\n",
        "print('Accuracy of Logistic Regression classifier on training set: {:.2f}'.format(Log_Reg.score(X_train, y_train)))\n",
        "print('Accuracy of Logistic Regression classifier on test set: {:.2f}'.format(Log_Reg.score(X_test, y_test)))\n",
        "\n",
        "t0 = timeit.default_timer()\n",
        "y_predict_LR=log_reg.predict(X_test)\n",
        "time = timeit.default_timer() - t0\n",
        "print('\\nClassification time: {:.5f}'.format(time),'s')"
      ],
      "execution_count": 14,
      "outputs": [
        {
          "output_type": "stream",
          "text": [
            "Accuracy of Logistic Regression classifier on training set: 0.80\n",
            "Accuracy of Logistic Regression classifier on test set: 0.93\n",
            "\n",
            "Classification time: 0.00049 s\n"
          ],
          "name": "stdout"
        }
      ]
    },
    {
      "cell_type": "markdown",
      "metadata": {
        "id": "20Oj9X5nm7EI"
      },
      "source": [
        "*METRICAS DEL CLASIFICADOR POR REGRSIION LOGISTICA*"
      ]
    },
    {
      "cell_type": "code",
      "metadata": {
        "colab": {
          "base_uri": "https://localhost:8080/"
        },
        "id": "bhS-lOqbnAM_",
        "outputId": "8cf985dc-fa9d-44f4-a988-4212d53f5698"
      },
      "source": [
        "Pred = Log_Reg.predict(X_test)\n",
        "pred_probs = Log_Reg.predict_proba(X_test)\n",
        "# Matriz de confusion\n",
        "print(confusion_matrix(y_test, pred))\n",
        "# Reporte \n",
        "print(classification_report(y_test, pred))\n",
        "# Implementación Matthews\n",
        "print('Implementación con Matthews: ',matthews_corrcoef(y_test, pred))"
      ],
      "execution_count": 30,
      "outputs": [
        {
          "output_type": "stream",
          "text": [
            "[[200   5]\n",
            " [ 20 107]]\n",
            "              precision    recall  f1-score   support\n",
            "\n",
            "           0       0.91      0.98      0.94       205\n",
            "           1       0.96      0.84      0.90       127\n",
            "\n",
            "    accuracy                           0.92       332\n",
            "   macro avg       0.93      0.91      0.92       332\n",
            "weighted avg       0.93      0.92      0.92       332\n",
            "\n",
            "Implementación con Matthews:  0.8409699171980937\n"
          ],
          "name": "stdout"
        }
      ]
    },
    {
      "cell_type": "markdown",
      "metadata": {
        "id": "wWRXqABpqdtl"
      },
      "source": [
        "**Clasificación por SVM**"
      ]
    },
    {
      "cell_type": "code",
      "metadata": {
        "colab": {
          "base_uri": "https://localhost:8080/"
        },
        "id": "aDzpN0T_qm_9",
        "outputId": "8c3ca6e0-50e1-4018-df8c-bf8ae3884294"
      },
      "source": [
        "kernels=['linear', 'poly', 'rbf', 'sigmoid']\n",
        "scoremax = 0\n",
        "kernelmax = 500\n",
        "degreemax = 500\n",
        "for Kernel in range(4):\n",
        "  if Kernel == 1:\n",
        "    for Degree in range(5):\n",
        "      msv = svm.SVC(kernel=kernels[Kernel],degree=Degree)\n",
        "      msv.fit(X_train, y_train)\n",
        "      score = msv.score(X_test, y_test)\n",
        "      if score > scoremax:\n",
        "        scoremax = score\n",
        "        kernelmax = Kernel\n",
        "        degreemax = Degree\n",
        "  else:\n",
        "    msv = svm.SVC(kernel=kernels[Kernel])\n",
        "    msv.fit(X_train, y_train)\n",
        "    score = msv.score(X_test, y_test)\n",
        "    if score > scoremax:\n",
        "      scoremax = score\n",
        "      kernelmax = Kernel\n",
        "\n",
        "print('El mejor Kernel:', kernels[kernelmax],'accuracy de:',scoremax)\n",
        "\n",
        "msv = svm.SVC(kernel=kernels[kernelmax])\n",
        "msv.fit(X_train, y_train)\n",
        "\n",
        "print('Accuracy of Logistic Regression classifier on training set: {:.2f}'\n",
        "  .format(msv.score(X_train, y_train)))\n",
        "\n",
        "print('Accuracy of Logistic Regression classifier on test set: {:.2f}'\n",
        "  .format(msv.score(X_test, y_test)))\n",
        "\n",
        "t0 = timeit.default_timer()\n",
        "y_predict_SVM=msv.predict(X_test)\n",
        "time = timeit.default_timer() - t0\n",
        "print('\\nClassification time: {:.5f}'.format(time),'s')\n"
      ],
      "execution_count": 33,
      "outputs": [
        {
          "output_type": "stream",
          "text": [
            "El mejor Kernel: linear accuracy de: 1.0\n",
            "Accuracy of Logistic Regression classifier on training set: 0.78\n",
            "Accuracy of Logistic Regression classifier on test set: 1.00\n",
            "\n",
            "Classification time: 0.00138 s\n"
          ],
          "name": "stdout"
        }
      ]
    },
    {
      "cell_type": "markdown",
      "metadata": {
        "id": "svV2qFKCscaO"
      },
      "source": [
        "*METRICAS DEL CLASIFICADOR POR SVM*"
      ]
    },
    {
      "cell_type": "code",
      "metadata": {
        "colab": {
          "base_uri": "https://localhost:8080/"
        },
        "id": "OK500VIUsiD_",
        "outputId": "7f54ac00-b3f3-4a13-90d4-8b91fdad3ee8"
      },
      "source": [
        "pred = msv.predict(X_test)\n",
        "# Matriz de confusion\n",
        "print(confusion_matrix(y_test, pred))\n",
        "# Reporte \n",
        "print(classification_report(y_test, pred))\n",
        "# Implementación Matthews\n",
        "print('Implementación Matthews: ',matthews_corrcoef(y_test, pred))"
      ],
      "execution_count": 34,
      "outputs": [
        {
          "output_type": "stream",
          "text": [
            "[[205   0]\n",
            " [  0 127]]\n",
            "              precision    recall  f1-score   support\n",
            "\n",
            "           0       1.00      1.00      1.00       205\n",
            "           1       1.00      1.00      1.00       127\n",
            "\n",
            "    accuracy                           1.00       332\n",
            "   macro avg       1.00      1.00      1.00       332\n",
            "weighted avg       1.00      1.00      1.00       332\n",
            "\n",
            "Implementación Matthews:  1.0\n"
          ],
          "name": "stdout"
        }
      ]
    }
  ]
}